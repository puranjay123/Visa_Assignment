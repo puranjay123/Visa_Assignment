{
  "nbformat": 4,
  "nbformat_minor": 0,
  "metadata": {
    "colab": {
      "provenance": []
    },
    "kernelspec": {
      "name": "python3",
      "display_name": "Python 3"
    },
    "language_info": {
      "name": "python"
    }
  },
  "cells": [
    {
      "cell_type": "markdown",
      "source": [
        "#**VISA** Assignment\n",
        "Puranjay Kwatra, 9306614548, kwattrapuranjay@gmail.com"
      ],
      "metadata": {
        "id": "mqFRwWk-aGKE"
      }
    },
    {
      "cell_type": "markdown",
      "source": [
        "## Identifying fraudulent users from multiple samples from the same user."
      ],
      "metadata": {
        "id": "Uj4jMnqOD_cL"
      }
    },
    {
      "cell_type": "markdown",
      "source": [
        "### Understanding the Problem and the data\n",
        "---\n",
        "\n",
        "*   92 Users ---> 47[Fraud] and 45[Non-fraud]    File(user-level fraud indicator)\n",
        "\n",
        "*   Features- Total 166\n",
        "\n",
        "\n",
        "*   Activity Records=476 File(fraud-user-and-transactions-dat)\n",
        "\n"
      ],
      "metadata": {
        "id": "TM0i-rwJEeZm"
      }
    },
    {
      "cell_type": "markdown",
      "source": [
        "We are provided with two sheets:\n",
        "\n",
        "User-level Fraud Indicator\n",
        "\n",
        "Fraudulent Users and Transactions Data\n",
        "\n",
        "Merge the two sheets using the user_id as the key. This will allow us to align the user-level fraud labels with their corresponding transaction records for further analysis.\n"
      ],
      "metadata": {
        "id": "xPvAZ8vbaQOC"
      }
    },
    {
      "cell_type": "code",
      "execution_count": 100,
      "metadata": {
        "id": "bl83W2H-91uu",
        "colab": {
          "base_uri": "https://localhost:8080/"
        },
        "outputId": "35b8c96f-0294-46ad-e084-c03e37fd8064"
      },
      "outputs": [
        {
          "output_type": "stream",
          "name": "stdout",
          "text": [
            "  user-id  f1   f2   f3  f4   f5  f6  f7   f8  f9  ...  f158  f159  f160  \\\n",
            "0   uid-1  42 -198 -109 -75 -117  11  23  -88 -28  ...   -74  -129  -120   \n",
            "1   uid-1  42 -191 -142 -65 -117  55  49 -170 -45  ...  -302    60  -120   \n",
            "2   uid-1  42 -191 -142 -75 -117  11  49 -161 -45  ...   -73  -127  -120   \n",
            "3   uid-1  42 -198 -110 -65 -117  55  23  -95 -28  ...  -302    60  -120   \n",
            "4   uid-2  42 -198 -102 -75 -117  10  24  -87 -28  ...   -73  -127    51   \n",
            "\n",
            "   f161  f162  f163  f164  f165  f166  fraud  \n",
            "0   -38    30    48   -37     6    30      1  \n",
            "1   -39    31    48   -37     5    30      1  \n",
            "2   -38    30    48   -37     5    31      1  \n",
            "3   -39    30    48   -37     6    30      1  \n",
            "4   128   144    43   -30    14    26      1  \n",
            "\n",
            "[5 rows x 168 columns]\n"
          ]
        }
      ],
      "source": [
        "import pandas as pd\n",
        "import numpy as np\n",
        "from sklearn.ensemble import RandomForestClassifier\n",
        "from sklearn.model_selection import train_test_split\n",
        "from sklearn.metrics import classification_report, roc_auc_score\n",
        "\n",
        "file_path = \"fraud-user-and-transactions-data.xlsx\"\n",
        "excel_file = pd.ExcelFile(file_path)\n",
        "#Dividing the data from sheets\n",
        "y_df = excel_file.parse(\"user-level fraud indicator\")\n",
        "X_df = excel_file.parse(\"fraud-user-and-transactions-dat\")\n",
        "\n",
        "y_df.columns = [\"user-id\", \"fraud\"]\n",
        "\n",
        "# Merge fraud label into activity data\n",
        "X_merged = pd.merge(X_df, y_df, on=\"user-id\", how=\"left\")\n",
        "\n",
        "print(X_merged.head())"
      ]
    },
    {
      "cell_type": "markdown",
      "source": [
        "\n",
        "\n",
        ">  Now In order to Get the More detailed features lets Aggregate the data per use for mean , std, max so that we have clear picture about the features patterns\n",
        "\n",
        "**Why are we doing this?**\n",
        "\n",
        "\n",
        "1.   Mean - Using mean I can have the central data points of the activity\n",
        "2.   STD- Using STD to mesaure Variance\n",
        "3. MAX- Since I already know this is credit card data this can give us if there is a max spend from the amounts or transaction from all the features\n",
        "\n",
        "\n"
      ],
      "metadata": {
        "id": "WcVne2DIblKa"
      }
    },
    {
      "cell_type": "code",
      "source": [
        "# Using  mean, std, and max for each feature\n",
        "agg_funcs = ['mean', 'std', 'max']\n",
        "X_user = X_merged.groupby(\"user-id\").agg({f\"f{i}\": agg_funcs for i in range(1, 167)})\n",
        "X_user.columns = [f\"{feat}_{agg}\" for feat, agg in X_user.columns]\n",
        "# Reset index to bring user-id as a column\n",
        "X_user = X_user.reset_index()\n",
        "print(X_user.head())\n",
        "\n",
        "\n"
      ],
      "metadata": {
        "id": "XttvnC1pAtwV",
        "colab": {
          "base_uri": "https://localhost:8080/"
        },
        "outputId": "55e82372-219c-49ef-f860-7e18f204615b"
      },
      "execution_count": 101,
      "outputs": [
        {
          "output_type": "stream",
          "name": "stdout",
          "text": [
            "  user-id  f1_mean    f1_std  f1_max  f2_mean      f2_std  f2_max     f3_mean  \\\n",
            "0   uid-1   42.000  0.000000      42 -194.500    4.041452    -191 -125.750000   \n",
            "1  uid-10   44.000  9.859006      53 -155.000   46.017388    -112  -85.833333   \n",
            "2  uid-11   42.200  9.859006      53 -146.200   45.920584    -112  -73.000000   \n",
            "3  uid-12   43.625  5.680480      52 -142.875   53.504172     -59  -96.750000   \n",
            "4  uid-13   40.000  3.464102      43  -36.000  140.325811      86  -74.250000   \n",
            "\n",
            "      f3_std  f3_max  ...  f163_max  f164_mean  f164_std  f164_max  f165_mean  \\\n",
            "0  18.768324    -109  ...        48    -37.000  0.000000       -37   5.500000   \n",
            "1  70.782531     -21  ...        56    -39.000  5.477226       -34   3.166667   \n",
            "2  70.897814     -21  ...        56    -38.000  5.477226       -34   5.200000   \n",
            "3  64.340056     -19  ...       100    -31.875  9.789754       -13  -6.125000   \n",
            "4  89.362091       4  ...        86    -32.500  4.041452       -29 -15.000000   \n",
            "\n",
            "    f165_std  f165_max  f166_mean   f166_std  f166_max  \n",
            "0   0.577350         6  30.250000   0.500000        31  \n",
            "1  11.143010        14  30.666667   3.011091        34  \n",
            "2  10.686440        13  30.000000   2.915476        34  \n",
            "3  12.494999        10  28.500000  56.472496        99  \n",
            "4  13.856406        -3  17.250000  73.040514        81  \n",
            "\n",
            "[5 rows x 499 columns]\n"
          ]
        }
      ]
    },
    {
      "cell_type": "markdown",
      "source": [
        "Merge aggregated features with fraud labels based on user-id. just like sql I am using a left join"
      ],
      "metadata": {
        "id": "etCVJVWXbjym"
      }
    },
    {
      "cell_type": "code",
      "source": [
        "# Merge again with fraud labels\n",
        "y_user = pd.merge(X_user, y_df, on=\"user-id\", how=\"left\")\n",
        "print(y_user.head())"
      ],
      "metadata": {
        "colab": {
          "base_uri": "https://localhost:8080/"
        },
        "id": "CN6Q493QmCpK",
        "outputId": "d69b62b2-9114-42f6-dec1-a08014b1db67"
      },
      "execution_count": 102,
      "outputs": [
        {
          "output_type": "stream",
          "name": "stdout",
          "text": [
            "  user-id  f1_mean    f1_std  f1_max  f2_mean      f2_std  f2_max     f3_mean  \\\n",
            "0   uid-1   42.000  0.000000      42 -194.500    4.041452    -191 -125.750000   \n",
            "1  uid-10   44.000  9.859006      53 -155.000   46.017388    -112  -85.833333   \n",
            "2  uid-11   42.200  9.859006      53 -146.200   45.920584    -112  -73.000000   \n",
            "3  uid-12   43.625  5.680480      52 -142.875   53.504172     -59  -96.750000   \n",
            "4  uid-13   40.000  3.464102      43  -36.000  140.325811      86  -74.250000   \n",
            "\n",
            "      f3_std  f3_max  ...  f164_mean  f164_std  f164_max  f165_mean  \\\n",
            "0  18.768324    -109  ...    -37.000  0.000000       -37   5.500000   \n",
            "1  70.782531     -21  ...    -39.000  5.477226       -34   3.166667   \n",
            "2  70.897814     -21  ...    -38.000  5.477226       -34   5.200000   \n",
            "3  64.340056     -19  ...    -31.875  9.789754       -13  -6.125000   \n",
            "4  89.362091       4  ...    -32.500  4.041452       -29 -15.000000   \n",
            "\n",
            "    f165_std  f165_max  f166_mean   f166_std  f166_max  fraud  \n",
            "0   0.577350         6  30.250000   0.500000        31      1  \n",
            "1  11.143010        14  30.666667   3.011091        34      1  \n",
            "2  10.686440        13  30.000000   2.915476        34      1  \n",
            "3  12.494999        10  28.500000  56.472496        99      1  \n",
            "4  13.856406        -3  17.250000  73.040514        81      1  \n",
            "\n",
            "[5 rows x 500 columns]\n"
          ]
        }
      ]
    },
    {
      "cell_type": "markdown",
      "source": [
        "\n",
        "## > **Model Testing Strategy**<br>\n",
        "I will begin by testing Random Forest, as it effectively handles complex and high-dimensional features with minimal preprocessing. It's a strong baseline for structured data and offers feature importance insights.\n",
        "After this, I will evaluate two additional models:\n",
        "\n",
        "\n",
        "\n",
        "*   XGBoost, using binary cross-entropy (log loss) as the objective, known for its performance on tabular data.\n",
        "*   Logistic Regression, for its simplicity and interpretaility serving as a reliable linear baseline model beacuse our solution is solely based on predict a binary output\n",
        "\n",
        "\n",
        "\n",
        "\n"
      ],
      "metadata": {
        "id": "wEn1N6CTKH9-"
      }
    },
    {
      "cell_type": "code",
      "source": [
        "# Features and labels\n",
        "from sklearn.metrics import classification_report, confusion_matrix\n",
        "X = y_user.drop(columns=[\"user-id\", \"fraud\"])\n",
        "y = y_user[\"fraud\"]\n",
        "\n",
        "# Train-test split\n",
        "X_train, X_test, y_train, y_test = train_test_split(X, y, test_size=0.2, stratify=y, random_state=42)\n",
        "\n",
        "# Train a Random Forest model\n",
        "model = RandomForestClassifier(n_estimators=100, random_state=42)\n",
        "model.fit(X_train, y_train)\n",
        "\n",
        "# Evaluate\n",
        "y_pred = model.predict(X_test)\n",
        "print(\"Classification Report:\\n\", classification_report(y_test, y_pred))\n",
        "print(\"Confusion Matrix:\\n\", confusion_matrix(y_test, y_pred))"
      ],
      "metadata": {
        "colab": {
          "base_uri": "https://localhost:8080/"
        },
        "id": "nCst_q3tm8iR",
        "outputId": "f216be17-0e57-40cc-c98f-168263c5e3f5"
      },
      "execution_count": 103,
      "outputs": [
        {
          "output_type": "stream",
          "name": "stdout",
          "text": [
            "Classification Report:\n",
            "               precision    recall  f1-score   support\n",
            "\n",
            "           0       0.67      0.89      0.76         9\n",
            "           1       0.86      0.60      0.71        10\n",
            "\n",
            "    accuracy                           0.74        19\n",
            "   macro avg       0.76      0.74      0.73        19\n",
            "weighted avg       0.77      0.74      0.73        19\n",
            "\n",
            "Confusion Matrix:\n",
            " [[8 1]\n",
            " [4 6]]\n"
          ]
        }
      ]
    },
    {
      "cell_type": "code",
      "source": [
        "from sklearn.metrics import roc_auc_score\n",
        "print(\"Random Forest ROC AUC Score:\", roc_auc_score(y_test, model.predict_proba(X_test)[:,1]))\n"
      ],
      "metadata": {
        "colab": {
          "base_uri": "https://localhost:8080/"
        },
        "id": "VlYgv_0TtpDq",
        "outputId": "8553c2e0-672b-4653-d4b1-2c5eb78c7759"
      },
      "execution_count": 104,
      "outputs": [
        {
          "output_type": "stream",
          "name": "stdout",
          "text": [
            "Random Forest ROC AUC Score: 0.9111111111111112\n"
          ]
        }
      ]
    },
    {
      "cell_type": "markdown",
      "source": [
        "Random Forest isn’t giving good accuracy, there are more false negatives so let’s try improving it by adding class_weight to handle class imbalance.\n",
        "\n",
        "Train Random Forest with balanced class weights and evaluate performance."
      ],
      "metadata": {
        "id": "M2v4xBXWnWjN"
      }
    },
    {
      "cell_type": "code",
      "source": [
        "model = RandomForestClassifier(n_estimators=100, class_weight=\"balanced\", random_state=42)\n",
        "model.fit(X_train, y_train)\n",
        "\n",
        "# Evaluate\n",
        "y_pred = model.predict(X_test)\n",
        "print(\"Classification Report:\\n\", classification_report(y_test, y_pred))\n",
        "print(\"Confusion Matrix:\\n\", confusion_matrix(y_test, y_pred))"
      ],
      "metadata": {
        "colab": {
          "base_uri": "https://localhost:8080/"
        },
        "id": "8E74eDWonMDT",
        "outputId": "195c5826-57d9-4eaf-b3a4-8b43a3e14211"
      },
      "execution_count": 105,
      "outputs": [
        {
          "output_type": "stream",
          "name": "stdout",
          "text": [
            "Classification Report:\n",
            "               precision    recall  f1-score   support\n",
            "\n",
            "           0       0.80      0.89      0.84         9\n",
            "           1       0.89      0.80      0.84        10\n",
            "\n",
            "    accuracy                           0.84        19\n",
            "   macro avg       0.84      0.84      0.84        19\n",
            "weighted avg       0.85      0.84      0.84        19\n",
            "\n",
            "Confusion Matrix:\n",
            " [[8 1]\n",
            " [2 8]]\n"
          ]
        }
      ]
    },
    {
      "cell_type": "code",
      "source": [
        "from sklearn.metrics import roc_auc_score\n",
        "print(\"AUC Score:\", roc_auc_score(y_test, model.predict_proba(X_test)[:,1]))\n"
      ],
      "metadata": {
        "colab": {
          "base_uri": "https://localhost:8080/"
        },
        "id": "mYTa7SUwm8fZ",
        "outputId": "1bd7c093-3333-4f04-a261-75e7cfed20d7"
      },
      "execution_count": 106,
      "outputs": [
        {
          "output_type": "stream",
          "name": "stdout",
          "text": [
            "AUC Score: 0.9277777777777778\n"
          ]
        }
      ]
    },
    {
      "cell_type": "markdown",
      "source": [
        "### :Calculate AUC, plot ROC curve, and visualize model performance.\n",
        "### Since Our AUC is closer to 1 its classifing very perfectly"
      ],
      "metadata": {
        "id": "YMmCeJQ_Momh"
      }
    },
    {
      "cell_type": "code",
      "source": [
        "from sklearn.metrics import roc_auc_score, roc_curve\n",
        "import matplotlib.pyplot as plt\n",
        "\n",
        "# Get probabilities instead of hard class predictions\n",
        "y_probs = model.predict_proba(X_test)[:, 1] # adding [:,1] adds probability of fraud\n",
        "\n",
        "# AUC score\n",
        "auc_score = roc_auc_score(y_test, y_probs)\n",
        "print(\"ROC AUC Score:\", auc_score)\n",
        "\n",
        "# ROC curve\n",
        "fpr, tpr, thresholds = roc_curve(y_test, y_probs)\n",
        "\n",
        "# Plot it\n",
        "plt.figure(figsize=(8, 6))\n",
        "plt.plot(fpr, tpr, label=f\"AUC = {auc_score:.2f}\")\n",
        "plt.plot([0, 1], [0, 1], linestyle='--', color='gray')  # random line\n",
        "plt.xlabel(\"False Positive Rate\")\n",
        "plt.ylabel(\"True Positive Rate\")\n",
        "plt.title(\"ROC Curve\")\n",
        "plt.legend()\n",
        "plt.grid(True)\n",
        "plt.show()\n"
      ],
      "metadata": {
        "colab": {
          "base_uri": "https://localhost:8080/",
          "height": 581
        },
        "id": "sMU5TaFvm8W4",
        "outputId": "862cde1c-69b0-49d6-ec46-7ed622cd2495"
      },
      "execution_count": 107,
      "outputs": [
        {
          "output_type": "stream",
          "name": "stdout",
          "text": [
            "ROC AUC Score: 0.9277777777777778\n"
          ]
        },
        {
          "output_type": "display_data",
          "data": {
            "text/plain": [
              "<Figure size 800x600 with 1 Axes>"
            ],
            "image/png": "[encoded data removed]"
          },
          "metadata": {}
        }
      ]
    },
    {
      "cell_type": "markdown",
      "source": [
        "## Model Number 2: LogisticRegression"
      ],
      "metadata": {
        "id": "OVMrs_UFNx9v"
      }
    },
    {
      "cell_type": "markdown",
      "source": [
        "\n",
        "\n",
        "> So Our Random Forest is giving a good accuracy but inorder to compare it with some better models , The ideal approach should be to test with the other models and compare the score so mainly for BinaryClassification problem I am going with ROC\n",
        "\n"
      ],
      "metadata": {
        "id": "VN-_kZCS_SSg"
      }
    },
    {
      "cell_type": "code",
      "source": [
        "from sklearn.linear_model import LogisticRegression\n",
        "from sklearn.metrics import classification_report, roc_auc_score\n",
        "\n",
        "# Create model with class weight to handle imbalance\n",
        "logreg = LogisticRegression(class_weight='balanced', max_iter=1000, solver='liblinear')\n",
        "# Choosing liblinear as its best for small datasets\n",
        "\n",
        "# Train\n",
        "logreg.fit(X_train, y_train)\n",
        "\n",
        "# Predict\n",
        "y_pred = logreg.predict(X_test)\n",
        "y_probs = logreg.predict_proba(X_test)[:, 1]\n",
        "\n",
        "# Evaluate\n",
        "print(\"Classification Report:\\n\", classification_report(y_test, y_pred))\n",
        "print(\"ROC AUC Score:\", roc_auc_score(y_test, y_probs))\n",
        "\n"
      ],
      "metadata": {
        "colab": {
          "base_uri": "https://localhost:8080/"
        },
        "id": "aghrt1Uwm8OE",
        "outputId": "e2f46727-1c50-43fa-ef7b-d298f316f568"
      },
      "execution_count": 108,
      "outputs": [
        {
          "output_type": "stream",
          "name": "stdout",
          "text": [
            "Classification Report:\n",
            "               precision    recall  f1-score   support\n",
            "\n",
            "           0       0.88      0.78      0.82         9\n",
            "           1       0.82      0.90      0.86        10\n",
            "\n",
            "    accuracy                           0.84        19\n",
            "   macro avg       0.85      0.84      0.84        19\n",
            "weighted avg       0.85      0.84      0.84        19\n",
            "\n",
            "ROC AUC Score: 0.8666666666666667\n"
          ]
        }
      ]
    },
    {
      "cell_type": "markdown",
      "source": [
        "## XGBOOST\n",
        "\n",
        "> Since Logistic Regression isn’t performing well, let's try XGBoost with a custom loss function like log loss.\n",
        "\n",
        "Train XGBoost with custom log loss objective, evaluate using classification report and ROC AUC score.\n",
        "\n"
      ],
      "metadata": {
        "id": "ULm8VFkIExv7"
      }
    },
    {
      "cell_type": "code",
      "source": [
        "from xgboost import XGBClassifier\n",
        "from sklearn.metrics import classification_report, roc_auc_score\n",
        "\n",
        "# Initialize model\n",
        "xgb = XGBClassifier(\n",
        "    objective='binary:logistic',\n",
        "    eval_metric='logloss',\n",
        "    scale_pos_weight=1,\n",
        "    n_estimators=100,\n",
        "    learning_rate=0.23, # chanding the learning rate from 0.1 to 0.23 signifincatly increased the accuracy from 89.99 to 97.23\n",
        "    max_depth=5,\n",
        "    subsample=0.8,\n",
        "    colsample_bytree=0.8,\n",
        "    random_state=42\n",
        ")\n",
        "\n",
        "xgb.fit(X_train, y_train)\n",
        "\n",
        "# Predict\n",
        "y_pred = xgb.predict(X_test)\n",
        "y_probs = xgb.predict_proba(X_test)[:, 1]\n",
        "\n",
        "# Evaluate\n",
        "print(\"\\n\\n\\nClassification Report:\\n\", classification_report(y_test, y_pred))\n",
        "print(\"ROC AUC Score:\", roc_auc_score(y_test, y_probs))\n"
      ],
      "metadata": {
        "colab": {
          "base_uri": "https://localhost:8080/"
        },
        "id": "QagqXD-_ExnI",
        "outputId": "1b459f0e-fd30-48fb-8fa5-813fa74aa8af"
      },
      "execution_count": 125,
      "outputs": [
        {
          "output_type": "stream",
          "name": "stdout",
          "text": [
            "\n",
            "\n",
            "\n",
            "Classification Report:\n",
            "               precision    recall  f1-score   support\n",
            "\n",
            "           0       0.96      0.96      0.96        54\n",
            "           1       0.95      0.95      0.95        42\n",
            "\n",
            "    accuracy                           0.96        96\n",
            "   macro avg       0.96      0.96      0.96        96\n",
            "weighted avg       0.96      0.96      0.96        96\n",
            "\n",
            "ROC AUC Score: 0.9739858906525574\n"
          ]
        }
      ]
    },
    {
      "cell_type": "markdown",
      "source": [
        "So lets find out which feature is influencing our prediction the most\n",
        "\n",
        "```\n",
        "Feature can be anything ex: Trasnaction,Charges\n",
        "```\n",
        "\n"
      ],
      "metadata": {
        "id": "h-PHpPudOwh2"
      }
    },
    {
      "cell_type": "code",
      "source": [
        "import matplotlib.pyplot as plt\n",
        "from xgboost import plot_importance\n",
        "\n",
        "plt.figure(figsize=(10, 6))\n",
        "plot_importance(xgb, max_num_features=20)  # Top 20 features\n",
        "plt.title(\"Feature Importance (XGBoost)\")\n",
        "plt.show()\n"
      ],
      "metadata": {
        "colab": {
          "base_uri": "https://localhost:8080/",
          "height": 489
        },
        "id": "lIHR4PrY7qiv",
        "outputId": "d80076c4-301b-4aa1-d1dd-d787e6436418"
      },
      "execution_count": 127,
      "outputs": [
        {
          "output_type": "display_data",
          "data": {
            "text/plain": [
              "<Figure size 1000x600 with 0 Axes>"
            ]
          },
          "metadata": {}
        },
        {
          "output_type": "display_data",
          "data": {
            "text/plain": [
              "<Figure size 640x480 with 1 Axes>"
            ],
            "image/png": "[encoded data removed]"
          },
          "metadata": {}
        }
      ]
    },
    {
      "cell_type": "markdown",
      "source": [
        "Lets check Our best Other model Features which Feature were most important"
      ],
      "metadata": {
        "id": "akUMYOkUSNFt"
      }
    },
    {
      "cell_type": "code",
      "source": [
        "import matplotlib.pyplot as plt\n",
        "\n",
        "importances = model.feature_importances_\n",
        "indices = np.argsort(importances)[::-1][:20]  # Top 20\n",
        "\n",
        "plt.figure(figsize=(10,6))\n",
        "plt.title(\"Top 20 Feature Importances\")\n",
        "plt.bar(range(len(indices)), importances[indices])\n",
        "plt.xticks(range(len(indices)), X.columns[indices], rotation=90)\n",
        "plt.tight_layout()\n",
        "plt.show()\n"
      ],
      "metadata": {
        "colab": {
          "base_uri": "https://localhost:8080/",
          "height": 607
        },
        "id": "UdzT4-bt9Z1q",
        "outputId": "15186eeb-cb8e-4052-a07d-9900d5117533"
      },
      "execution_count": 128,
      "outputs": [
        {
          "output_type": "display_data",
          "data": {
            "text/plain": [
              "<Figure size 1000x600 with 1 Axes>"
            ],
            "image/png": "[encoded data removed]"
          },
          "metadata": {}
        }
      ]
    },
    {
      "cell_type": "markdown",
      "source": [
        "## @With This we can conclude that featuresd f112, and f116 are top features that are influncing the results."
      ],
      "metadata": {
        "id": "qaQVQIdb9qnk"
      }
    },
    {
      "cell_type": "code",
      "source": [],
      "metadata": {
        "id": "i2v7oC6D9PGd"
      },
      "execution_count": 111,
      "outputs": []
    },
    {
      "cell_type": "markdown",
      "source": [
        "Lets Understand more features in the dataset Using ***GirdSearchCV*** max_depth, learning_rate, n_estimators in XGBoost\n",
        "\n",
        "1.   Takes a list of hyperparmaters and values\n",
        "\n",
        "2.   Training the model with every combination\n",
        "\n",
        "3.  Uses cross-validation (e.g. 5-fold) to estimate performance\n",
        "\n",
        "4. Picks the best one based on your chosen metric (e.g. AUC)"
      ],
      "metadata": {
        "id": "mqkOpQtfLc_G"
      }
    },
    {
      "cell_type": "code",
      "source": [
        "from sklearn.model_selection import GridSearchCV\n",
        "from xgboost import XGBClassifier\n",
        "\n",
        "param_grid = {\n",
        "    'max_depth': [3, 5, 7],\n",
        "    'learning_rate': [0.03, 0.1],\n",
        "    'n_estimators': [100, 195],\n",
        "    'subsample': [0.7, 0.9]\n",
        "}\n",
        "\n",
        "xgb = XGBClassifier(\n",
        "    objective='binary:logistic',\n",
        "    eval_metric='logloss',\n",
        "    use_label_encoder=False,\n",
        "    random_state=42\n",
        ")\n",
        "\n",
        "grid_search = GridSearchCV(\n",
        "    estimator=xgb,\n",
        "    param_grid=param_grid,\n",
        "    scoring='roc_auc',     us\n",
        "    cv=5,                  # 5-fold cross-validation\n",
        "    verbose=1,\n",
        "    n_jobs=-1              # Use all CPU cores for faster search\n",
        ")\n",
        "grid_search.fit(X_train, y_train)\n",
        "\n",
        "print(\"Best parameters:\", grid_search.best_params_)\n",
        "print(\"Best AUC Score:\", grid_search.best_score_)\n"
      ],
      "metadata": {
        "colab": {
          "base_uri": "https://localhost:8080/"
        },
        "id": "OAq1cx9kFuqP",
        "outputId": "02d1f34a-af79-4a5c-a824-3bba6b0d9624"
      },
      "execution_count": 112,
      "outputs": [
        {
          "output_type": "stream",
          "name": "stdout",
          "text": [
            "Fitting 5 folds for each of 24 candidates, totalling 120 fits\n"
          ]
        },
        {
          "output_type": "stream",
          "name": "stderr",
          "text": [
            "/usr/local/lib/python3.11/dist-packages/xgboost/core.py:158: UserWarning: [00:01:46] WARNING: /workspace/src/learner.cc:740: \n",
            "Parameters: { \"use_label_encoder\" } are not used.\n",
            "\n",
            "  warnings.warn(smsg, UserWarning)\n"
          ]
        },
        {
          "output_type": "stream",
          "name": "stdout",
          "text": [
            "Best parameters: {'learning_rate': 0.1, 'max_depth': 3, 'n_estimators': 100, 'subsample': 0.7}\n",
            "Best AUC Score: 0.8795918367346939\n"
          ]
        }
      ]
    },
    {
      "cell_type": "code",
      "source": [
        "best_xgb = grid_search.best_estimator_\n",
        "\n",
        "# Predict on test set\n",
        "y_pred = best_xgb.predict(X_test)\n",
        "y_probs = best_xgb.predict_proba(X_test)[:, 1]\n",
        "\n",
        "# Evaluate performance\n",
        "from sklearn.metrics import classification_report, roc_auc_score\n",
        "\n",
        "print(\"Classification Report:\\n\", classification_report(y_test, y_pred))\n",
        "print(\"Test ROC AUC Score:\", roc_auc_score(y_test, y_probs))\n"
      ],
      "metadata": {
        "colab": {
          "base_uri": "https://localhost:8080/"
        },
        "id": "U6IHQZ3bSAX5",
        "outputId": "43373491-469c-42bf-af4a-01d4bc96f82c"
      },
      "execution_count": 113,
      "outputs": [
        {
          "output_type": "stream",
          "name": "stdout",
          "text": [
            "Classification Report:\n",
            "               precision    recall  f1-score   support\n",
            "\n",
            "           0       0.80      0.89      0.84         9\n",
            "           1       0.89      0.80      0.84        10\n",
            "\n",
            "    accuracy                           0.84        19\n",
            "   macro avg       0.84      0.84      0.84        19\n",
            "weighted avg       0.85      0.84      0.84        19\n",
            "\n",
            "Test ROC AUC Score: 0.9\n"
          ]
        }
      ]
    },
    {
      "cell_type": "markdown",
      "source": [
        "# Bonus Part\n",
        "Predict the Individual Fraud Label for each activity record\n",
        "\n",
        "\n",
        "\n",
        "*   We have predicted Individual User with a decent accuracy\n",
        "*   Now what we want is to predict the activity level fraud detection\n",
        "\n"
      ],
      "metadata": {
        "id": "gVFiVqgtghs_"
      }
    },
    {
      "cell_type": "markdown",
      "source": [
        "### Bonus Part: Predict individual fraud labels for each activity record.\n",
        "\n",
        "### After achieving decent accuracy at the user level, we aim to predict fraud detection at the activity level.\n"
      ],
      "metadata": {
        "id": "R8ScOTFDSyUS"
      }
    },
    {
      "cell_type": "code",
      "source": [
        "from sklearn.model_selection import train_test_split\n",
        "from xgboost import XGBClassifier\n",
        "from sklearn.metrics import classification_report, roc_auc_score"
      ],
      "metadata": {
        "id": "bNE9eTxlfuuF"
      },
      "execution_count": 114,
      "outputs": []
    },
    {
      "cell_type": "markdown",
      "source": [
        "Load the activity data and reuse the merged data (X_merged) for predicting individual fraud labels.\n"
      ],
      "metadata": {
        "id": "r-0Dq47gS631"
      }
    },
    {
      "cell_type": "code",
      "source": [
        "activity_df = excel_file.parse(\"fraud-user-and-transactions-dat\")\n",
        "# Lets use X_merged again beacuse we will need that merged data again\n",
        "activity_df=X_merged"
      ],
      "metadata": {
        "id": "A326IUCfUJOx"
      },
      "execution_count": 115,
      "outputs": []
    },
    {
      "cell_type": "code",
      "source": [
        "print(activity_df.head())\n",
        "x=activity_df[[f'f{i}' for i in range(1, 167)]]\n",
        "# print(x)\n",
        "y=activity_df['fraud']"
      ],
      "metadata": {
        "colab": {
          "base_uri": "https://localhost:8080/"
        },
        "id": "zHH9pAwpfpUT",
        "outputId": "28f7c935-497d-4885-e143-13a46280f788"
      },
      "execution_count": 116,
      "outputs": [
        {
          "output_type": "stream",
          "name": "stdout",
          "text": [
            "  user-id  f1   f2   f3  f4   f5  f6  f7   f8  f9  ...  f158  f159  f160  \\\n",
            "0   uid-1  42 -198 -109 -75 -117  11  23  -88 -28  ...   -74  -129  -120   \n",
            "1   uid-1  42 -191 -142 -65 -117  55  49 -170 -45  ...  -302    60  -120   \n",
            "2   uid-1  42 -191 -142 -75 -117  11  49 -161 -45  ...   -73  -127  -120   \n",
            "3   uid-1  42 -198 -110 -65 -117  55  23  -95 -28  ...  -302    60  -120   \n",
            "4   uid-2  42 -198 -102 -75 -117  10  24  -87 -28  ...   -73  -127    51   \n",
            "\n",
            "   f161  f162  f163  f164  f165  f166  fraud  \n",
            "0   -38    30    48   -37     6    30      1  \n",
            "1   -39    31    48   -37     5    30      1  \n",
            "2   -38    30    48   -37     5    31      1  \n",
            "3   -39    30    48   -37     6    30      1  \n",
            "4   128   144    43   -30    14    26      1  \n",
            "\n",
            "[5 rows x 168 columns]\n"
          ]
        }
      ]
    },
    {
      "cell_type": "markdown",
      "source": [
        "Splittting the data into Train and test split"
      ],
      "metadata": {
        "id": "mPa4YtVnS_b-"
      }
    },
    {
      "cell_type": "code",
      "source": [
        "X_train, X_test, y_train, y_test = train_test_split(\n",
        "    x, y, test_size=0.2, stratify=y, random_state=42\n",
        ")"
      ],
      "metadata": {
        "id": "3ZuMSq8xmep9"
      },
      "execution_count": 117,
      "outputs": []
    },
    {
      "cell_type": "markdown",
      "source": [
        "Using **Binary cross ENtropy loss** as this is a binray classification problem that we are working on\n",
        "\n",
        "*   USE_LABEL_ENCODER= since we already appended the fraud labels column we dont need this\n",
        "\n",
        "\n"
      ],
      "metadata": {
        "id": "Q3vA4RgETpSp"
      }
    },
    {
      "cell_type": "code",
      "source": [
        "scale = (y_train == 0).sum() / (y_train == 1).sum()  # for imbalance handling\n",
        "xgb_model = XGBClassifier(\n",
        "    use_label_encoder=False,\n",
        "    eval_metric='logloss',\n",
        "    scale_pos_weight=scale,\n",
        "    random_state=42\n",
        ")\n",
        "xgb_model.fit(X_train, y_train)"
      ],
      "metadata": {
        "colab": {
          "base_uri": "https://localhost:8080/",
          "height": 323
        },
        "id": "orLFtx9fBDtN",
        "outputId": "d91a2160-9cf8-4b36-9bd5-5b28375fa5a3"
      },
      "execution_count": 118,
      "outputs": [
        {
          "output_type": "stream",
          "name": "stderr",
          "text": [
            "/usr/local/lib/python3.11/dist-packages/xgboost/core.py:158: UserWarning: [00:01:48] WARNING: /workspace/src/learner.cc:740: \n",
            "Parameters: { \"use_label_encoder\" } are not used.\n",
            "\n",
            "  warnings.warn(smsg, UserWarning)\n"
          ]
        },
        {
          "output_type": "execute_result",
          "data": {
            "text/plain": [
              "XGBClassifier(base_score=None, booster=None, callbacks=None,\n",
              "              colsample_bylevel=None, colsample_bynode=None,\n",
              "              colsample_bytree=None, device=None, early_stopping_rounds=None,\n",
              "              enable_categorical=False, eval_metric='logloss',\n",
              "              feature_types=None, gamma=None, grow_policy=None,\n",
              "              importance_type=None, interaction_constraints=None,\n",
              "              learning_rate=None, max_bin=None, max_cat_threshold=None,\n",
              "              max_cat_to_onehot=None, max_delta_step=None, max_depth=None,\n",
              "              max_leaves=None, min_child_weight=None, missing=nan,\n",
              "              monotone_constraints=None, multi_strategy=None, n_estimators=None,\n",
              "              n_jobs=None, num_parallel_tree=None, random_state=42, ...)"
            ],
            "text/html": [
              "<style>#sk-container-id-4 {\n",
              "  /* Definition of color scheme common for light and dark mode */\n",
              "  --sklearn-color-text: #000;\n",
              "  --sklearn-color-text-muted: #666;\n",
              "  --sklearn-color-line: gray;\n",
              "  /* Definition of color scheme for unfitted estimators */\n",
              "  --sklearn-color-unfitted-level-0: #fff5e6;\n",
              "  --sklearn-color-unfitted-level-1: #f6e4d2;\n",
              "  --sklearn-color-unfitted-level-2: #ffe0b3;\n",
              "  --sklearn-color-unfitted-level-3: chocolate;\n",
              "  /* Definition of color scheme for fitted estimators */\n",
              "  --sklearn-color-fitted-level-0: #f0f8ff;\n",
              "  --sklearn-color-fitted-level-1: #d4ebff;\n",
              "  --sklearn-color-fitted-level-2: #b3dbfd;\n",
              "  --sklearn-color-fitted-level-3: cornflowerblue;\n",
              "\n",
              "  /* Specific color for light theme */\n",
              "  --sklearn-color-text-on-default-background: var(--sg-text-color, var(--theme-code-foreground, var(--jp-content-font-color1, black)));\n",
              "  --sklearn-color-background: var(--sg-background-color, var(--theme-background, var(--jp-layout-color0, white)));\n",
              "  --sklearn-color-border-box: var(--sg-text-color, var(--theme-code-foreground, var(--jp-content-font-color1, black)));\n",
              "  --sklearn-color-icon: #696969;\n",
              "\n",
              "  @media (prefers-color-scheme: dark) {\n",
              "    /* Redefinition of color scheme for dark theme */\n",
              "    --sklearn-color-text-on-default-background: var(--sg-text-color, var(--theme-code-foreground, var(--jp-content-font-color1, white)));\n",
              "    --sklearn-color-background: var(--sg-background-color, var(--theme-background, var(--jp-layout-color0, #111)));\n",
              "    --sklearn-color-border-box: var(--sg-text-color, var(--theme-code-foreground, var(--jp-content-font-color1, white)));\n",
              "    --sklearn-color-icon: #878787;\n",
              "  }\n",
              "}\n",
              "\n",
              "#sk-container-id-4 {\n",
              "  color: var(--sklearn-color-text);\n",
              "}\n",
              "\n",
              "#sk-container-id-4 pre {\n",
              "  padding: 0;\n",
              "}\n",
              "\n",
              "#sk-container-id-4 input.sk-hidden--visually {\n",
              "  border: 0;\n",
              "  clip: rect(1px 1px 1px 1px);\n",
              "  clip: rect(1px, 1px, 1px, 1px);\n",
              "  height: 1px;\n",
              "  margin: -1px;\n",
              "  overflow: hidden;\n",
              "  padding: 0;\n",
              "  position: absolute;\n",
              "  width: 1px;\n",
              "}\n",
              "\n",
              "#sk-container-id-4 div.sk-dashed-wrapped {\n",
              "  border: 1px dashed var(--sklearn-color-line);\n",
              "  margin: 0 0.4em 0.5em 0.4em;\n",
              "  box-sizing: border-box;\n",
              "  padding-bottom: 0.4em;\n",
              "  background-color: var(--sklearn-color-background);\n",
              "}\n",
              "\n",
              "#sk-container-id-4 div.sk-container {\n",
              "  /* jupyter's `normalize.less` sets `[hidden] { display: none; }`\n",
              "     but bootstrap.min.css set `[hidden] { display: none !important; }`\n",
              "     so we also need the `!important` here to be able to override the\n",
              "     default hidden behavior on the sphinx rendered scikit-learn.org.\n",
              "     See: https://github.com/scikit-learn/scikit-learn/issues/21755 */\n",
              "  display: inline-block !important;\n",
              "  position: relative;\n",
              "}\n",
              "\n",
              "#sk-container-id-4 div.sk-text-repr-fallback {\n",
              "  display: none;\n",
              "}\n",
              "\n",
              "div.sk-parallel-item,\n",
              "div.sk-serial,\n",
              "div.sk-item {\n",
              "  /* draw centered vertical line to link estimators */\n",
              "  background-image: linear-gradient(var(--sklearn-color-text-on-default-background), var(--sklearn-color-text-on-default-background));\n",
              "  background-size: 2px 100%;\n",
              "  background-repeat: no-repeat;\n",
              "  background-position: center center;\n",
              "}\n",
              "\n",
              "/* Parallel-specific style estimator block */\n",
              "\n",
              "#sk-container-id-4 div.sk-parallel-item::after {\n",
              "  content: \"\";\n",
              "  width: 100%;\n",
              "  border-bottom: 2px solid var(--sklearn-color-text-on-default-background);\n",
              "  flex-grow: 1;\n",
              "}\n",
              "\n",
              "#sk-container-id-4 div.sk-parallel {\n",
              "  display: flex;\n",
              "  align-items: stretch;\n",
              "  justify-content: center;\n",
              "  background-color: var(--sklearn-color-background);\n",
              "  position: relative;\n",
              "}\n",
              "\n",
              "#sk-container-id-4 div.sk-parallel-item {\n",
              "  display: flex;\n",
              "  flex-direction: column;\n",
              "}\n",
              "\n",
              "#sk-container-id-4 div.sk-parallel-item:first-child::after {\n",
              "  align-self: flex-end;\n",
              "  width: 50%;\n",
              "}\n",
              "\n",
              "#sk-container-id-4 div.sk-parallel-item:last-child::after {\n",
              "  align-self: flex-start;\n",
              "  width: 50%;\n",
              "}\n",
              "\n",
              "#sk-container-id-4 div.sk-parallel-item:only-child::after {\n",
              "  width: 0;\n",
              "}\n",
              "\n",
              "/* Serial-specific style estimator block */\n",
              "\n",
              "#sk-container-id-4 div.sk-serial {\n",
              "  display: flex;\n",
              "  flex-direction: column;\n",
              "  align-items: center;\n",
              "  background-color: var(--sklearn-color-background);\n",
              "  padding-right: 1em;\n",
              "  padding-left: 1em;\n",
              "}\n",
              "\n",
              "\n",
              "/* Toggleable style: style used for estimator/Pipeline/ColumnTransformer box that is\n",
              "clickable and can be expanded/collapsed.\n",
              "- Pipeline and ColumnTransformer use this feature and define the default style\n",
              "- Estimators will overwrite some part of the style using the `sk-estimator` class\n",
              "*/\n",
              "\n",
              "/* Pipeline and ColumnTransformer style (default) */\n",
              "\n",
              "#sk-container-id-4 div.sk-toggleable {\n",
              "  /* Default theme specific background. It is overwritten whether we have a\n",
              "  specific estimator or a Pipeline/ColumnTransformer */\n",
              "  background-color: var(--sklearn-color-background);\n",
              "}\n",
              "\n",
              "/* Toggleable label */\n",
              "#sk-container-id-4 label.sk-toggleable__label {\n",
              "  cursor: pointer;\n",
              "  display: flex;\n",
              "  width: 100%;\n",
              "  margin-bottom: 0;\n",
              "  padding: 0.5em;\n",
              "  box-sizing: border-box;\n",
              "  text-align: center;\n",
              "  align-items: start;\n",
              "  justify-content: space-between;\n",
              "  gap: 0.5em;\n",
              "}\n",
              "\n",
              "#sk-container-id-4 label.sk-toggleable__label .caption {\n",
              "  font-size: 0.6rem;\n",
              "  font-weight: lighter;\n",
              "  color: var(--sklearn-color-text-muted);\n",
              "}\n",
              "\n",
              "#sk-container-id-4 label.sk-toggleable__label-arrow:before {\n",
              "  /* Arrow on the left of the label */\n",
              "  content: \"▸\";\n",
              "  float: left;\n",
              "  margin-right: 0.25em;\n",
              "  color: var(--sklearn-color-icon);\n",
              "}\n",
              "\n",
              "#sk-container-id-4 label.sk-toggleable__label-arrow:hover:before {\n",
              "  color: var(--sklearn-color-text);\n",
              "}\n",
              "\n",
              "/* Toggleable content - dropdown */\n",
              "\n",
              "#sk-container-id-4 div.sk-toggleable__content {\n",
              "  max-height: 0;\n",
              "  max-width: 0;\n",
              "  overflow: hidden;\n",
              "  text-align: left;\n",
              "  /* unfitted */\n",
              "  background-color: var(--sklearn-color-unfitted-level-0);\n",
              "}\n",
              "\n",
              "#sk-container-id-4 div.sk-toggleable__content.fitted {\n",
              "  /* fitted */\n",
              "  background-color: var(--sklearn-color-fitted-level-0);\n",
              "}\n",
              "\n",
              "#sk-container-id-4 div.sk-toggleable__content pre {\n",
              "  margin: 0.2em;\n",
              "  border-radius: 0.25em;\n",
              "  color: var(--sklearn-color-text);\n",
              "  /* unfitted */\n",
              "  background-color: var(--sklearn-color-unfitted-level-0);\n",
              "}\n",
              "\n",
              "#sk-container-id-4 div.sk-toggleable__content.fitted pre {\n",
              "  /* unfitted */\n",
              "  background-color: var(--sklearn-color-fitted-level-0);\n",
              "}\n",
              "\n",
              "#sk-container-id-4 input.sk-toggleable__control:checked~div.sk-toggleable__content {\n",
              "  /* Expand drop-down */\n",
              "  max-height: 200px;\n",
              "  max-width: 100%;\n",
              "  overflow: auto;\n",
              "}\n",
              "\n",
              "#sk-container-id-4 input.sk-toggleable__control:checked~label.sk-toggleable__label-arrow:before {\n",
              "  content: \"▾\";\n",
              "}\n",
              "\n",
              "/* Pipeline/ColumnTransformer-specific style */\n",
              "\n",
              "#sk-container-id-4 div.sk-label input.sk-toggleable__control:checked~label.sk-toggleable__label {\n",
              "  color: var(--sklearn-color-text);\n",
              "  background-color: var(--sklearn-color-unfitted-level-2);\n",
              "}\n",
              "\n",
              "#sk-container-id-4 div.sk-label.fitted input.sk-toggleable__control:checked~label.sk-toggleable__label {\n",
              "  background-color: var(--sklearn-color-fitted-level-2);\n",
              "}\n",
              "\n",
              "/* Estimator-specific style */\n",
              "\n",
              "/* Colorize estimator box */\n",
              "#sk-container-id-4 div.sk-estimator input.sk-toggleable__control:checked~label.sk-toggleable__label {\n",
              "  /* unfitted */\n",
              "  background-color: var(--sklearn-color-unfitted-level-2);\n",
              "}\n",
              "\n",
              "#sk-container-id-4 div.sk-estimator.fitted input.sk-toggleable__control:checked~label.sk-toggleable__label {\n",
              "  /* fitted */\n",
              "  background-color: var(--sklearn-color-fitted-level-2);\n",
              "}\n",
              "\n",
              "#sk-container-id-4 div.sk-label label.sk-toggleable__label,\n",
              "#sk-container-id-4 div.sk-label label {\n",
              "  /* The background is the default theme color */\n",
              "  color: var(--sklearn-color-text-on-default-background);\n",
              "}\n",
              "\n",
              "/* On hover, darken the color of the background */\n",
              "#sk-container-id-4 div.sk-label:hover label.sk-toggleable__label {\n",
              "  color: var(--sklearn-color-text);\n",
              "  background-color: var(--sklearn-color-unfitted-level-2);\n",
              "}\n",
              "\n",
              "/* Label box, darken color on hover, fitted */\n",
              "#sk-container-id-4 div.sk-label.fitted:hover label.sk-toggleable__label.fitted {\n",
              "  color: var(--sklearn-color-text);\n",
              "  background-color: var(--sklearn-color-fitted-level-2);\n",
              "}\n",
              "\n",
              "/* Estimator label */\n",
              "\n",
              "#sk-container-id-4 div.sk-label label {\n",
              "  font-family: monospace;\n",
              "  font-weight: bold;\n",
              "  display: inline-block;\n",
              "  line-height: 1.2em;\n",
              "}\n",
              "\n",
              "#sk-container-id-4 div.sk-label-container {\n",
              "  text-align: center;\n",
              "}\n",
              "\n",
              "/* Estimator-specific */\n",
              "#sk-container-id-4 div.sk-estimator {\n",
              "  font-family: monospace;\n",
              "  border: 1px dotted var(--sklearn-color-border-box);\n",
              "  border-radius: 0.25em;\n",
              "  box-sizing: border-box;\n",
              "  margin-bottom: 0.5em;\n",
              "  /* unfitted */\n",
              "  background-color: var(--sklearn-color-unfitted-level-0);\n",
              "}\n",
              "\n",
              "#sk-container-id-4 div.sk-estimator.fitted {\n",
              "  /* fitted */\n",
              "  background-color: var(--sklearn-color-fitted-level-0);\n",
              "}\n",
              "\n",
              "/* on hover */\n",
              "#sk-container-id-4 div.sk-estimator:hover {\n",
              "  /* unfitted */\n",
              "  background-color: var(--sklearn-color-unfitted-level-2);\n",
              "}\n",
              "\n",
              "#sk-container-id-4 div.sk-estimator.fitted:hover {\n",
              "  /* fitted */\n",
              "  background-color: var(--sklearn-color-fitted-level-2);\n",
              "}\n",
              "\n",
              "/* Specification for estimator info (e.g. \"i\" and \"?\") */\n",
              "\n",
              "/* Common style for \"i\" and \"?\" */\n",
              "\n",
              ".sk-estimator-doc-link,\n",
              "a:link.sk-estimator-doc-link,\n",
              "a:visited.sk-estimator-doc-link {\n",
              "  float: right;\n",
              "  font-size: smaller;\n",
              "  line-height: 1em;\n",
              "  font-family: monospace;\n",
              "  background-color: var(--sklearn-color-background);\n",
              "  border-radius: 1em;\n",
              "  height: 1em;\n",
              "  width: 1em;\n",
              "  text-decoration: none !important;\n",
              "  margin-left: 0.5em;\n",
              "  text-align: center;\n",
              "  /* unfitted */\n",
              "  border: var(--sklearn-color-unfitted-level-1) 1pt solid;\n",
              "  color: var(--sklearn-color-unfitted-level-1);\n",
              "}\n",
              "\n",
              ".sk-estimator-doc-link.fitted,\n",
              "a:link.sk-estimator-doc-link.fitted,\n",
              "a:visited.sk-estimator-doc-link.fitted {\n",
              "  /* fitted */\n",
              "  border: var(--sklearn-color-fitted-level-1) 1pt solid;\n",
              "  color: var(--sklearn-color-fitted-level-1);\n",
              "}\n",
              "\n",
              "/* On hover */\n",
              "div.sk-estimator:hover .sk-estimator-doc-link:hover,\n",
              ".sk-estimator-doc-link:hover,\n",
              "div.sk-label-container:hover .sk-estimator-doc-link:hover,\n",
              ".sk-estimator-doc-link:hover {\n",
              "  /* unfitted */\n",
              "  background-color: var(--sklearn-color-unfitted-level-3);\n",
              "  color: var(--sklearn-color-background);\n",
              "  text-decoration: none;\n",
              "}\n",
              "\n",
              "div.sk-estimator.fitted:hover .sk-estimator-doc-link.fitted:hover,\n",
              ".sk-estimator-doc-link.fitted:hover,\n",
              "div.sk-label-container:hover .sk-estimator-doc-link.fitted:hover,\n",
              ".sk-estimator-doc-link.fitted:hover {\n",
              "  /* fitted */\n",
              "  background-color: var(--sklearn-color-fitted-level-3);\n",
              "  color: var(--sklearn-color-background);\n",
              "  text-decoration: none;\n",
              "}\n",
              "\n",
              "/* Span, style for the box shown on hovering the info icon */\n",
              ".sk-estimator-doc-link span {\n",
              "  display: none;\n",
              "  z-index: 9999;\n",
              "  position: relative;\n",
              "  font-weight: normal;\n",
              "  right: .2ex;\n",
              "  padding: .5ex;\n",
              "  margin: .5ex;\n",
              "  width: min-content;\n",
              "  min-width: 20ex;\n",
              "  max-width: 50ex;\n",
              "  color: var(--sklearn-color-text);\n",
              "  box-shadow: 2pt 2pt 4pt #999;\n",
              "  /* unfitted */\n",
              "  background: var(--sklearn-color-unfitted-level-0);\n",
              "  border: .5pt solid var(--sklearn-color-unfitted-level-3);\n",
              "}\n",
              "\n",
              ".sk-estimator-doc-link.fitted span {\n",
              "  /* fitted */\n",
              "  background: var(--sklearn-color-fitted-level-0);\n",
              "  border: var(--sklearn-color-fitted-level-3);\n",
              "}\n",
              "\n",
              ".sk-estimator-doc-link:hover span {\n",
              "  display: block;\n",
              "}\n",
              "\n",
              "/* \"?\"-specific style due to the `<a>` HTML tag */\n",
              "\n",
              "#sk-container-id-4 a.estimator_doc_link {\n",
              "  float: right;\n",
              "  font-size: 1rem;\n",
              "  line-height: 1em;\n",
              "  font-family: monospace;\n",
              "  background-color: var(--sklearn-color-background);\n",
              "  border-radius: 1rem;\n",
              "  height: 1rem;\n",
              "  width: 1rem;\n",
              "  text-decoration: none;\n",
              "  /* unfitted */\n",
              "  color: var(--sklearn-color-unfitted-level-1);\n",
              "  border: var(--sklearn-color-unfitted-level-1) 1pt solid;\n",
              "}\n",
              "\n",
              "#sk-container-id-4 a.estimator_doc_link.fitted {\n",
              "  /* fitted */\n",
              "  border: var(--sklearn-color-fitted-level-1) 1pt solid;\n",
              "  color: var(--sklearn-color-fitted-level-1);\n",
              "}\n",
              "\n",
              "/* On hover */\n",
              "#sk-container-id-4 a.estimator_doc_link:hover {\n",
              "  /* unfitted */\n",
              "  background-color: var(--sklearn-color-unfitted-level-3);\n",
              "  color: var(--sklearn-color-background);\n",
              "  text-decoration: none;\n",
              "}\n",
              "\n",
              "#sk-container-id-4 a.estimator_doc_link.fitted:hover {\n",
              "  /* fitted */\n",
              "  background-color: var(--sklearn-color-fitted-level-3);\n",
              "}\n",
              "</style><div id=\"sk-container-id-4\" class=\"sk-top-container\"><div class=\"sk-text-repr-fallback\"><pre>XGBClassifier(base_score=None, booster=None, callbacks=None,\n",
              "              colsample_bylevel=None, colsample_bynode=None,\n",
              "              colsample_bytree=None, device=None, early_stopping_rounds=None,\n",
              "              enable_categorical=False, eval_metric=&#x27;logloss&#x27;,\n",
              "              feature_types=None, gamma=None, grow_policy=None,\n",
              "              importance_type=None, interaction_constraints=None,\n",
              "              learning_rate=None, max_bin=None, max_cat_threshold=None,\n",
              "              max_cat_to_onehot=None, max_delta_step=None, max_depth=None,\n",
              "              max_leaves=None, min_child_weight=None, missing=nan,\n",
              "              monotone_constraints=None, multi_strategy=None, n_estimators=None,\n",
              "              n_jobs=None, num_parallel_tree=None, random_state=42, ...)</pre><b>In a Jupyter environment, please rerun this cell to show the HTML representation or trust the notebook. <br />On GitHub, the HTML representation is unable to render, please try loading this page with nbviewer.org.</b></div><div class=\"sk-container\" hidden><div class=\"sk-item\"><div class=\"sk-estimator fitted sk-toggleable\"><input class=\"sk-toggleable__control sk-hidden--visually\" id=\"sk-estimator-id-4\" type=\"checkbox\" checked><label for=\"sk-estimator-id-4\" class=\"sk-toggleable__label fitted sk-toggleable__label-arrow\"><div><div>XGBClassifier</div></div><div><span class=\"sk-estimator-doc-link fitted\">i<span>Fitted</span></span></div></label><div class=\"sk-toggleable__content fitted\"><pre>XGBClassifier(base_score=None, booster=None, callbacks=None,\n",
              "              colsample_bylevel=None, colsample_bynode=None,\n",
              "              colsample_bytree=None, device=None, early_stopping_rounds=None,\n",
              "              enable_categorical=False, eval_metric=&#x27;logloss&#x27;,\n",
              "              feature_types=None, gamma=None, grow_policy=None,\n",
              "              importance_type=None, interaction_constraints=None,\n",
              "              learning_rate=None, max_bin=None, max_cat_threshold=None,\n",
              "              max_cat_to_onehot=None, max_delta_step=None, max_depth=None,\n",
              "              max_leaves=None, min_child_weight=None, missing=nan,\n",
              "              monotone_constraints=None, multi_strategy=None, n_estimators=None,\n",
              "              n_jobs=None, num_parallel_tree=None, random_state=42, ...)</pre></div> </div></div></div></div>"
            ]
          },
          "metadata": {},
          "execution_count": 118
        }
      ]
    },
    {
      "cell_type": "code",
      "source": [
        "y_pred = xgb_model.predict(X_test)\n",
        "y_prob = xgb_model.predict_proba(X_test)[:, 1]"
      ],
      "metadata": {
        "id": "g8xM3hMRBMCN"
      },
      "execution_count": 129,
      "outputs": []
    },
    {
      "cell_type": "code",
      "source": [
        "from sklearn.metrics import classification_report, confusion_matrix, roc_auc_score\n",
        "\n",
        "print(\" Classification Report:\\n\")\n",
        "print(classification_report(y_test, y_pred, digits=4))\n",
        "\n",
        "print(\" ROC AUC Score:\", roc_auc_score(y_test, y_prob))\n"
      ],
      "metadata": {
        "colab": {
          "base_uri": "https://localhost:8080/"
        },
        "id": "aRiDKn0RBPY4",
        "outputId": "efdd961e-8528-4e10-8ea0-bd972213e3f8"
      },
      "execution_count": 130,
      "outputs": [
        {
          "output_type": "stream",
          "name": "stdout",
          "text": [
            " Classification Report:\n",
            "\n",
            "              precision    recall  f1-score   support\n",
            "\n",
            "           0     0.9273    0.9444    0.9358        54\n",
            "           1     0.9268    0.9048    0.9157        42\n",
            "\n",
            "    accuracy                         0.9271        96\n",
            "   macro avg     0.9271    0.9246    0.9257        96\n",
            "weighted avg     0.9271    0.9271    0.9270        96\n",
            "\n",
            " ROC AUC Score: 0.9805996472663139\n"
          ]
        }
      ]
    },
    {
      "cell_type": "markdown",
      "source": [
        "###  Confusion Matrix for Activity-Level Prediction\n",
        "\n",
        "- Computes the confusion matrix using `y_test` (true labels) and `y_pred` (model predictions).\n",
        "- Visualizes the matrix using a heatmap for better readability.\n",
        "- Shows:\n",
        "  - **True Positives (TP)**: Correctly predicted frauds.\n",
        "  - **True Negatives (TN)**: Correctly predicted non-frauds.\n",
        "  - **False Positives (FP)**: Non-frauds incorrectly predicted as frauds.\n",
        "  - **False Negatives (FN)**: Frauds missed by the model.\n",
        "\n"
      ],
      "metadata": {
        "id": "tqN-3cT3UZMd"
      }
    },
    {
      "cell_type": "code",
      "source": [
        "import seaborn as sns\n",
        "cm = confusion_matrix(y_test, y_pred)\n",
        "sns.heatmap(cm, annot=True, fmt='d', cmap='Blues',\n",
        "            xticklabels=['Non-Fraud', 'Fraud'],\n",
        "            yticklabels=['Non-Fraud', 'Fraud'])\n",
        "plt.title('Activity-Level Confusion Matrix')\n",
        "plt.xlabel('Predicted')\n",
        "plt.ylabel('Actual')\n",
        "plt.tight_layout()\n",
        "plt.show()"
      ],
      "metadata": {
        "colab": {
          "base_uri": "https://localhost:8080/",
          "height": 487
        },
        "id": "0_yxbDGxBRyo",
        "outputId": "74e034cf-76e4-4832-8cff-e2db1b2de162"
      },
      "execution_count": 121,
      "outputs": [
        {
          "output_type": "display_data",
          "data": {
            "text/plain": [
              "<Figure size 640x480 with 2 Axes>"
            ],
            "image/png": "[encoded data removed]"
          },
          "metadata": {}
        }
      ]
    },
    {
      "cell_type": "markdown",
      "source": [
        "# Testing and Prediction Validation"
      ],
      "metadata": {
        "id": "WKa0tEphU40z"
      }
    },
    {
      "cell_type": "markdown",
      "source": [
        "To test the Activity level prediction lets call over trained model that we used and manually pass a UID and see the Prediction wether it is  `Fraud` or `Not Fraud`\n",
        "\n",
        "\n"
      ],
      "metadata": {
        "id": "dzDYI_YlUjm7"
      }
    },
    {
      "cell_type": "code",
      "source": [
        "target_user_id = 'uid-60'\n",
        "# Filter all activities of that user that we mentioned above\n",
        "user_activities = activity_df[activity_df['user-id'] == target_user_id].copy()\n",
        "# Extract features only so that we can predit on the basis of these features only\n",
        "X_user = user_activities[[f'f{i}' for i in range(1, 167)]]\n",
        "\n",
        "# Predict fraud probabilities\n",
        "user_activities['fraud_probability'] = xgb_model.predict_proba(X_user)[:, 1]\n",
        "user_activities['fraud_prediction'] = xgb_model.predict(X_user)\n",
        "\n",
        "# Showing only the Top 5 probabilities and there prediction.\n",
        "user_activities_sorted = user_activities.sort_values(by='fraud_probability', ascending=False)\n",
        "print(\"\\nTop suspicious activities for user:\", target_user_id)\n",
        "print(user_activities_sorted[['user-id', 'fraud_prediction', 'fraud_probability']].head(5))\n"
      ],
      "metadata": {
        "colab": {
          "base_uri": "https://localhost:8080/"
        },
        "id": "G-hdcu5nBf5N",
        "outputId": "68302c9e-d4ca-4a5b-9eb2-902e13613de4"
      },
      "execution_count": 122,
      "outputs": [
        {
          "output_type": "stream",
          "name": "stdout",
          "text": [
            "\n",
            "Top suspicious activities for user: uid-60\n",
            "    user-id  fraud_prediction  fraud_probability\n",
            "255  uid-60                 1           0.659035\n",
            "264  uid-60                 0           0.186294\n",
            "270  uid-60                 0           0.161318\n",
            "278  uid-60                 0           0.117823\n",
            "265  uid-60                 0           0.117642\n"
          ]
        }
      ]
    },
    {
      "cell_type": "code",
      "source": [
        "\n"
      ],
      "metadata": {
        "id": "ZQPVjLptCTLz"
      },
      "execution_count": 122,
      "outputs": []
    }
  ]
}